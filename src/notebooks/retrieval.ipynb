{
 "cells": [
  {
   "cell_type": "code",
   "execution_count": 12,
   "id": "98f057fb",
   "metadata": {},
   "outputs": [],
   "source": [
    "import sys\n",
    "import os\n",
    "\n",
    "src_path = os.path.split(os.getcwd())[0]\n",
    "sys.path.insert(0, src_path)\n",
    "\n",
    "import json\n",
    "import logging\n",
    "import numpy as np\n",
    "import pandas as pd\n",
    "from pathlib import Path, PurePath\n",
    "from collections import OrderedDict\n",
    "from itertools import chain\n",
    "\n",
    "import torch\n",
    "from torch.utils.data import DataLoader\n",
    "from torch.utils.tensorboard import SummaryWriter\n",
    "\n",
    "import clip.clip as clip\n",
    "from training.datasets import CellPainting\n",
    "from clip.clip import _transform\n",
    "from clip.model import convert_weights, CLIPGeneral\n",
    "from tqdm import tqdm\n",
    "\n",
    "from rdkit.Chem import AllChem\n",
    "from rdkit import Chem\n",
    "from rdkit.Chem import AllChem\n",
    "from rdkit.Chem import DataStructs\n",
    "\n",
    "from sklearn.metrics import accuracy_score, top_k_accuracy_score\n",
    "\n",
    "from huggingface_hub import hf_hub_download"
   ]
  },
  {
   "cell_type": "code",
   "execution_count": 13,
   "id": "3e8a4d3c",
   "metadata": {},
   "outputs": [],
   "source": [
    "FILENAME = \"cloome-retrieval-zero-shot.pt\"\n",
    "REPO_ID = \"anasanchezf/cloome\"\n",
    "checkpoint_path = hf_hub_download(REPO_ID, FILENAME)"
   ]
  },
  {
   "cell_type": "code",
   "execution_count": 14,
   "id": "bcb1ca0d",
   "metadata": {},
   "outputs": [],
   "source": [
    "# CLOOB\n",
    "model = \"RN50\"\n",
    "image_resolution = [520, 696]\n",
    "img_path = \"<your-image-path>\"\n",
    "mol_path = \"morgan_chiral_fps_1024.hdf5\"\n",
    "val = \"<your-path>/cellpainting-split-test-imgpermol.csv\"\n"
   ]
  },
  {
   "cell_type": "code",
   "execution_count": 15,
   "id": "c6b23506",
   "metadata": {},
   "outputs": [],
   "source": [
    "def convert_models_to_fp32(model):\n",
    "    for p in model.parameters():\n",
    "        p.data = p.data.float()\n",
    "        if p.grad:\n",
    "            p.grad.data = p.grad.data.float()"
   ]
  },
  {
   "cell_type": "code",
   "execution_count": 16,
   "id": "7ff3ae36",
   "metadata": {},
   "outputs": [],
   "source": [
    "def load(model_path, device, model, image_resolution):\n",
    "    checkpoint = torch.load(model_path)\n",
    "    state_dict = checkpoint[\"state_dict\"]\n",
    "\n",
    "    model_config_file = os.path.join(src_path, f\"training/model_configs/{model.replace('/', '-')}.json\")\n",
    "    print('Loading model from', model_config_file)\n",
    "    assert os.path.exists(model_config_file)\n",
    "    with open(model_config_file, 'r') as f:\n",
    "        model_info = json.load(f)\n",
    "    model = CLIPGeneral(**model_info)\n",
    "\n",
    "    if str(device) == \"cpu\":\n",
    "        model.float()\n",
    "    print(device)\n",
    "\n",
    "    new_state_dict = {k[len('module.'):]: v for k,v in state_dict.items()}\n",
    "\n",
    "    model.load_state_dict(new_state_dict)\n",
    "    model.to(device)\n",
    "    model.eval()\n",
    "\n",
    "    return model, _transform(image_resolution, image_resolution,  is_train=False)"
   ]
  },
  {
   "cell_type": "code",
   "execution_count": 17,
   "id": "a0bdefa6",
   "metadata": {},
   "outputs": [],
   "source": [
    "def get_features(dataset, model, device):\n",
    "    all_image_features = []\n",
    "    all_text_features = []\n",
    "    all_ids = []\n",
    "\n",
    "    print(f\"get_features {device}\")\n",
    "    print(len(dataset))\n",
    "\n",
    "    with torch.no_grad():\n",
    "        for batch in tqdm(DataLoader(dataset, num_workers=20, batch_size=64)):\n",
    "            #print(mols)\n",
    "            imgs, mols = batch\n",
    "\n",
    "            images, mols = imgs[\"input\"], mols[\"input\"]\n",
    "            ids = imgs[\"ID\"]\n",
    "            \n",
    "            img_features = model.encode_image(images.to(device))\n",
    "            text_features = model.encode_text(mols.to(device))\n",
    "\n",
    "            img_features = img_features / img_features.norm(dim=-1, keepdim=True)\n",
    "            text_features = text_features / text_features.norm(dim=-1, keepdim=True)\n",
    "\n",
    "            all_image_features.append(img_features)\n",
    "            all_text_features.append(text_features)\n",
    "            all_ids.append(ids)\n",
    "\n",
    "        all_ids = list(chain.from_iterable(all_ids))\n",
    "    return torch.cat(all_image_features), torch.cat(all_text_features), all_ids"
   ]
  },
  {
   "cell_type": "code",
   "execution_count": 18,
   "id": "ae2e1048",
   "metadata": {},
   "outputs": [],
   "source": [
    "def main(df, model_path, model, img_path, mol_path, image_resolution):\n",
    "    # Load the model\n",
    "    device = \"cuda\" if torch.cuda.is_available() else \"cpu\"\n",
    "    print(torch.cuda.device_count())\n",
    "\n",
    "    model, preprocess = load(model_path, device, model, image_resolution)\n",
    "\n",
    "    preprocess_train = _transform(image_resolution, image_resolution, is_train=True)\n",
    "    preprocess_val = _transform(image_resolution, image_resolution, is_train=False, normalize=\"dataset\", preprocess=\"crop\")\n",
    "\n",
    "    # Load the dataset\n",
    "    val = CellPainting(df,\n",
    "                       img_path,\n",
    "                       mol_path,\n",
    "                       transforms = preprocess_val)\n",
    "\n",
    "    # Calculate the image features\n",
    "    print(\"getting_features\")\n",
    "    val_img_features, val_text_features, val_ids = get_features(val, model, device)\n",
    "    \n",
    "    return val_img_features, val_text_features, val_ids"
   ]
  },
  {
   "cell_type": "code",
   "execution_count": 19,
   "id": "2fb42278",
   "metadata": {},
   "outputs": [],
   "source": [
    "def get_metrics(image_features, text_features):\n",
    "    metrics = {}\n",
    "    logits_per_image = image_features @ text_features.t()\n",
    "    logits_per_text = logits_per_image.t()\n",
    "\n",
    "    logits = {\"image_to_text\": logits_per_image, \"text_to_image\": logits_per_text}\n",
    "    ground_truth = (\n",
    "        torch.arange(len(text_features)).view(-1, 1).to(logits_per_image.device)\n",
    "    )\n",
    "\n",
    "    rankings = {}\n",
    "    all_top_samples = {}\n",
    "    all_preds = {}\n",
    "\n",
    "    for name, logit in logits.items():\n",
    "        ranking = torch.argsort(logit, descending=True)\n",
    "        rankings[name] = ranking\n",
    "        preds = torch.where(ranking == ground_truth)[1]\n",
    "        preds = preds.detach().cpu().numpy()\n",
    "        all_preds[name] = preds\n",
    "        top_samples = np.where(preds < 10)[0]\n",
    "        all_top_samples[name] = top_samples\n",
    "        metrics[f\"{name}_mean_rank\"] = preds.mean() + 1\n",
    "        metrics[f\"{name}_median_rank\"] = np.floor(np.median(preds)) + 1\n",
    "        for k in [1, 5, 10]:\n",
    "            metrics[f\"{name}_R@{k}\"] = np.mean(preds < k)\n",
    "\n",
    "    return rankings, all_top_samples, all_preds, metrics, logits"
   ]
  },
  {
   "cell_type": "code",
   "execution_count": 20,
   "id": "ddf5d9a4",
   "metadata": {},
   "outputs": [
    {
     "name": "stdout",
     "output_type": "stream",
     "text": [
      "2\n",
      "Loading model from /publicwork/sanchez/cloob/src/training/model_configs/RN50.json\n",
      "cuda\n",
      "2115\n",
      "getting_features\n",
      "get_features cuda\n",
      "2115\n"
     ]
    },
    {
     "name": "stderr",
     "output_type": "stream",
     "text": [
      "100%|███████████████████████████████████████████████████████████████████████████| 34/34 [00:34<00:00,  1.02s/it]\n"
     ]
    }
   ],
   "source": [
    "val_img_features, val_text_features, val_ids = main(val, checkpoint_path, model, img_path, mol_path, image_resolution)"
   ]
  },
  {
   "cell_type": "code",
   "execution_count": 21,
   "id": "fb4d3b36",
   "metadata": {},
   "outputs": [],
   "source": [
    "rankings, all_top_samples, all_preds, metrics, logits = get_metrics(val_img_features, val_text_features)"
   ]
  },
  {
   "cell_type": "code",
   "execution_count": 22,
   "id": "d30d18f9",
   "metadata": {},
   "outputs": [
    {
     "data": {
      "text/plain": [
       "{'image_to_text_mean_rank': 673.3040189125295,\n",
       " 'image_to_text_median_rank': 524.0,\n",
       " 'image_to_text_R@1': 0.030260047281323876,\n",
       " 'image_to_text_R@5': 0.06619385342789598,\n",
       " 'image_to_text_R@10': 0.08416075650118203,\n",
       " 'text_to_image_mean_rank': 673.0912529550827,\n",
       " 'text_to_image_median_rank': 549.0,\n",
       " 'text_to_image_R@1': 0.03309692671394799,\n",
       " 'text_to_image_R@5': 0.062411347517730496,\n",
       " 'text_to_image_R@10': 0.0789598108747045}"
      ]
     },
     "execution_count": 22,
     "metadata": {},
     "output_type": "execute_result"
    }
   ],
   "source": [
    "metrics"
   ]
  },
  {
   "cell_type": "code",
   "execution_count": 23,
   "id": "7a027357",
   "metadata": {},
   "outputs": [
    {
     "data": {
      "text/plain": [
       "tensor([[   0],\n",
       "        [   1],\n",
       "        [   2],\n",
       "        ...,\n",
       "        [2112],\n",
       "        [2113],\n",
       "        [2114]])"
      ]
     },
     "execution_count": 23,
     "metadata": {},
     "output_type": "execute_result"
    }
   ],
   "source": [
    "ground_truth = (\n",
    "    torch.arange(len(val_text_features)).view(-1, 1).to(\"cpu\")\n",
    ")\n",
    "ground_truth"
   ]
  },
  {
   "cell_type": "code",
   "execution_count": 24,
   "id": "14a95697",
   "metadata": {},
   "outputs": [
    {
     "name": "stdout",
     "output_type": "stream",
     "text": [
      "[[ 0]\n",
      " [18]\n",
      " [51]\n",
      " ...\n",
      " [ 0]\n",
      " [42]\n",
      " [45]]\n",
      "10.212765957446807 21.465721040189127 30.49645390070922\n",
      "216 454 645\n"
     ]
    }
   ],
   "source": [
    "all_preds = []\n",
    "\n",
    "for i, logs in enumerate(logits[\"image_to_text\"]):\n",
    "    choices = np.arange(len(val_text_features))\n",
    "    choices = np.delete(choices, i)\n",
    "        \n",
    "    logs = logs.cpu().numpy()\n",
    "    \n",
    "    positive = logs[i]\n",
    "    negatives_ind = np.random.choice(choices, 99, replace=False)\n",
    "    negatives = logs[negatives_ind]\n",
    "    \n",
    "    sampled_logs = np.hstack([positive, negatives])\n",
    "    \n",
    "    ground_truth = np.zeros(len(sampled_logs))\n",
    "    ground_truth[0] = 1\n",
    "    \n",
    "    ranking = np.argsort(sampled_logs)\n",
    "    ranking = np.flip(ranking)\n",
    "    pred = np.where(ranking == 0)[0]\n",
    "    all_preds.append(pred)\n",
    "\n",
    "\n",
    "all_preds = np.vstack(all_preds)\n",
    "print(all_preds)\n",
    "\n",
    "r1 = np.mean(all_preds < 1) * 100\n",
    "r5 = np.mean(all_preds < 5) * 100\n",
    "r10 = np.mean(all_preds < 10) * 100\n",
    "print(r1, r5, r10)\n",
    "\n",
    "n1 = len(np.where(all_preds < 1)[0])\n",
    "n5 = len(np.where(all_preds < 5)[0])\n",
    "n10 = len(np.where(all_preds < 10)[0])\n",
    "print(n1, n5, n10)"
   ]
  },
  {
   "cell_type": "code",
   "execution_count": 25,
   "id": "d3932ed8",
   "metadata": {},
   "outputs": [
    {
     "name": "stdout",
     "output_type": "stream",
     "text": [
      "[[ 0]\n",
      " [41]\n",
      " [50]\n",
      " ...\n",
      " [ 0]\n",
      " [32]\n",
      " [27]]\n",
      "10.401891252955082 21.087470449172578 29.408983451536642\n",
      "220 446 622\n"
     ]
    }
   ],
   "source": [
    "all_preds_t = []\n",
    "\n",
    "for i, logs in enumerate(logits[\"text_to_image\"]):\n",
    "    choices = np.arange(len(val_text_features))\n",
    "    choices = np.delete(choices, i)\n",
    "    \n",
    "    logs = logs.cpu().numpy()\n",
    "    \n",
    "    positive = logs[i]\n",
    "    negatives_ind = np.random.choice(choices, 99, replace=False)\n",
    "    negatives = logs[negatives_ind]\n",
    "    \n",
    "    sampled_logs = np.hstack([positive, negatives])\n",
    "    \n",
    "    ground_truth = np.zeros(len(sampled_logs))\n",
    "    ground_truth[0] = 1\n",
    "    \n",
    "    ranking = np.argsort(sampled_logs)\n",
    "    ranking = np.flip(ranking)\n",
    "    pred = np.where(ranking == 0)[0]\n",
    "    all_preds_t.append(pred)\n",
    "\n",
    "all_preds_t = np.vstack(all_preds_t)\n",
    "print(all_preds_t)\n",
    "\n",
    "r1_t = np.mean(all_preds_t < 1) * 100\n",
    "r5_t = np.mean(all_preds_t < 5) * 100\n",
    "r10_t = np.mean(all_preds_t < 10) * 100\n",
    "print(r1_t, r5_t, r10_t)\n",
    "\n",
    "n1_t = len(np.where(all_preds_t < 1)[0])\n",
    "n5_t = len(np.where(all_preds_t < 5)[0])\n",
    "n10_t = len(np.where(all_preds_t < 10)[0])\n",
    "print(n1_t, n5_t, n10_t)"
   ]
  },
  {
   "cell_type": "code",
   "execution_count": 27,
   "id": "b0fc7194",
   "metadata": {},
   "outputs": [
    {
     "name": "stdout",
     "output_type": "stream",
     "text": [
      "64\n",
      "3.0260047281323876\n",
      "ConfidenceInterval(low=0.023380231995578697, high=0.03847873199349217)\n"
     ]
    }
   ],
   "source": [
    "from scipy.stats import binomtest\n",
    "\n",
    "n_samples = 2115\n",
    "value = 0.030260047281323876*100\n",
    "\n",
    "successes = int(round(value * n_samples / 100))\n",
    "print(successes)\n",
    "\n",
    "btest = binomtest(k=successes, n=n_samples)\n",
    "result = btest.proportion_estimate * 100\n",
    "ci = btest.proportion_ci(confidence_level=0.95)\n",
    "    \n",
    "print(result)\n",
    "print(ci)"
   ]
  },
  {
   "cell_type": "code",
   "execution_count": null,
   "id": "17f78973",
   "metadata": {},
   "outputs": [],
   "source": []
  }
 ],
 "metadata": {
  "kernelspec": {
   "display_name": "Python 3 (ipykernel)",
   "language": "python",
   "name": "python3"
  },
  "language_info": {
   "codemirror_mode": {
    "name": "ipython",
    "version": 3
   },
   "file_extension": ".py",
   "mimetype": "text/x-python",
   "name": "python",
   "nbconvert_exporter": "python",
   "pygments_lexer": "ipython3",
   "version": "3.9.7"
  }
 },
 "nbformat": 4,
 "nbformat_minor": 5
}
