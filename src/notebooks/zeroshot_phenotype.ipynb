{
 "cells": [
  {
   "cell_type": "code",
   "execution_count": 27,
   "id": "86c4fa3d",
   "metadata": {},
   "outputs": [],
   "source": [
    "import sys\n",
    "import os\n",
    "\n",
    "src_path = os.path.split(os.getcwd())[0]\n",
    "sys.path.insert(0, src_path)\n",
    "\n",
    "import json\n",
    "import logging\n",
    "import numpy as np\n",
    "import pandas as pd\n",
    "from pathlib import Path, PurePath\n",
    "from collections import OrderedDict\n",
    "from itertools import chain\n",
    "\n",
    "import torch\n",
    "from torch.utils.data import DataLoader\n",
    "from torch.utils.tensorboard import SummaryWriter\n",
    "\n",
    "import clip.clip as clip\n",
    "from training.datasets import CellPainting\n",
    "from clip.clip import _transform\n",
    "from clip.model import convert_weights, CLIPGeneral\n",
    "from tqdm import tqdm\n",
    "\n",
    "from rdkit.Chem import AllChem\n",
    "from rdkit import Chem\n",
    "from rdkit.Chem import AllChem\n",
    "from rdkit.Chem import DataStructs\n",
    "\n",
    "from sklearn.metrics import accuracy_score, top_k_accuracy_score\n",
    "\n",
    "from huggingface_hub import hf_hub_download"
   ]
  },
  {
   "cell_type": "code",
   "execution_count": 42,
   "id": "7d0e6bb1",
   "metadata": {},
   "outputs": [],
   "source": [
    "FILENAME = \"cloome-retrieval-zero-shot.pt\"\n",
    "REPO_ID = \"anasanchezf/cloome\"\n",
    "checkpoint_path = hf_hub_download(REPO_ID, FILENAME)"
   ]
  },
  {
   "cell_type": "code",
   "execution_count": 43,
   "id": "ea8e8b15",
   "metadata": {},
   "outputs": [],
   "source": [
    "# CLOOB\n",
    "model = \"RN50\"\n",
    "image_resolution = 520\n",
    "img_path = \"<your-image-path>\"\n",
    "mol_path = \"morgan_chiral_fps_1024.hdf5\"\n",
    "val = \"cellpainting-test-phenotype-imgpermol.csv\"\n",
    "classes = \"cellpainting-split-test-imgpermol.csv\""
   ]
  },
  {
   "cell_type": "code",
   "execution_count": 30,
   "id": "b32ccf3f",
   "metadata": {},
   "outputs": [],
   "source": [
    "def convert_models_to_fp32(model):\n",
    "    for p in model.parameters():\n",
    "        p.data = p.data.float()\n",
    "        if p.grad:\n",
    "            p.grad.data = p.grad.data.float()"
   ]
  },
  {
   "cell_type": "code",
   "execution_count": 31,
   "id": "8dcceb63",
   "metadata": {},
   "outputs": [],
   "source": [
    "def load(model_path, device, model, image_resolution):\n",
    "\n",
    "    checkpoint = torch.load(model_path)\n",
    "    state_dict = checkpoint[\"state_dict\"]\n",
    "\n",
    "    model_config_file = os.path.join(src_path, f\"training/model_configs/{model.replace('/', '-')}.json\")\n",
    "\n",
    "    print('Loading model from', model_config_file)\n",
    "    assert os.path.exists(model_config_file)\n",
    "    with open(model_config_file, 'r') as f:\n",
    "        model_info = json.load(f)\n",
    "    model = CLIPGeneral(**model_info)\n",
    "\n",
    "    if str(device) == \"cpu\":\n",
    "        model.float()\n",
    "    print(device)\n",
    "\n",
    "    new_state_dict = {k[len('module.'):]: v for k,v in state_dict.items()}\n",
    "\n",
    "    model.load_state_dict(new_state_dict)\n",
    "    model.to(device)\n",
    "    model.eval()\n",
    "\n",
    "    return model, _transform(image_resolution, image_resolution,  is_train=False)"
   ]
  },
  {
   "cell_type": "code",
   "execution_count": 32,
   "id": "fd0578e0",
   "metadata": {},
   "outputs": [],
   "source": [
    "def get_features(dataset, model, device):\n",
    "    all_image_features = []\n",
    "    all_text_features = []\n",
    "    all_ids = []\n",
    "\n",
    "    print(f\"get_features {device}\")\n",
    "    print(len(dataset))\n",
    "\n",
    "    with torch.no_grad():\n",
    "        for batch in tqdm(DataLoader(dataset, num_workers=20, batch_size=64)):\n",
    "            #print(mols)\n",
    "            imgs, mols = batch\n",
    "\n",
    "            images, mols = imgs[\"input\"], mols[\"input\"]\n",
    "            ids = imgs[\"ID\"]\n",
    "            \n",
    "            img_features = model.encode_image(images.to(device))\n",
    "            text_features = model.encode_text(mols.to(device))\n",
    "\n",
    "            img_features = img_features / img_features.norm(dim=-1, keepdim=True)\n",
    "            text_features = text_features / text_features.norm(dim=-1, keepdim=True)\n",
    "\n",
    "            all_image_features.append(img_features)\n",
    "            all_text_features.append(text_features)\n",
    "            all_ids.append(ids)\n",
    "\n",
    "        all_ids = list(chain.from_iterable(all_ids))\n",
    "    return torch.cat(all_image_features), torch.cat(all_text_features), all_ids"
   ]
  },
  {
   "cell_type": "code",
   "execution_count": 33,
   "id": "9c848ce2",
   "metadata": {},
   "outputs": [],
   "source": [
    "def main(df, model_path, model, img_path, mol_path, image_resolution):\n",
    "    # Load the model\n",
    "    device = \"cuda\" if torch.cuda.is_available() else \"cpu\"\n",
    "    print(torch.cuda.device_count())\n",
    "\n",
    "    model, preprocess = load(model_path, device, model, image_resolution)\n",
    "\n",
    "    preprocess_train = _transform(image_resolution, image_resolution, is_train=True)\n",
    "    preprocess_val = _transform(image_resolution, image_resolution, is_train=False, normalize=\"dataset\", preprocess=\"downsize\")\n",
    "\n",
    "    # Load the dataset\n",
    "    val = CellPainting(df,\n",
    "                       img_path,\n",
    "                       mol_path,\n",
    "                       transforms = preprocess_val)\n",
    "\n",
    "    # Calculate the image features\n",
    "    print(\"getting_features\")\n",
    "    val_img_features, val_text_features, val_ids = get_features(val, model, device)\n",
    "    \n",
    "    return val_img_features, val_text_features, val_ids"
   ]
  },
  {
   "cell_type": "code",
   "execution_count": 44,
   "id": "97faec4e",
   "metadata": {},
   "outputs": [
    {
     "name": "stdout",
     "output_type": "stream",
     "text": [
      "2\n",
      "Loading model from /publicwork/sanchez/cloob/src/training/model_configs/RN50.json\n",
      "cuda\n",
      "44102\n",
      "getting_features\n",
      "get_features cuda\n",
      "44102\n"
     ]
    },
    {
     "name": "stderr",
     "output_type": "stream",
     "text": [
      "100%|█████████████████████████████████████████████████████████████████████████| 690/690 [07:59<00:00,  1.44it/s]\n"
     ]
    },
    {
     "name": "stdout",
     "output_type": "stream",
     "text": [
      "2\n",
      "Loading model from /publicwork/sanchez/cloob/src/training/model_configs/RN50.json\n",
      "cuda\n",
      "2115\n",
      "getting_features\n",
      "get_features cuda\n",
      "2115\n"
     ]
    },
    {
     "name": "stderr",
     "output_type": "stream",
     "text": [
      "100%|███████████████████████████████████████████████████████████████████████████| 34/34 [00:28<00:00,  1.20it/s]\n"
     ]
    }
   ],
   "source": [
    "val_img_features, val_text_features, val_ids = main(val, checkpoint_path, model, img_path, mol_path, image_resolution)\n",
    "class_img_features, class_text_features, class_ids = main(classes, checkpoint_path, model, img_path, mol_path, image_resolution)\n",
    "val_img_features = val_img_features.cpu()\n",
    "class_img_features = class_img_features.cpu()"
   ]
  },
  {
   "cell_type": "code",
   "execution_count": 45,
   "id": "f0db7220",
   "metadata": {},
   "outputs": [
    {
     "data": {
      "text/plain": [
       "torch.Size([44102, 512])"
      ]
     },
     "execution_count": 45,
     "metadata": {},
     "output_type": "execute_result"
    }
   ],
   "source": [
    "val_img_features.shape"
   ]
  },
  {
   "cell_type": "code",
   "execution_count": 46,
   "id": "349fe24c",
   "metadata": {
    "scrolled": true
   },
   "outputs": [],
   "source": [
    "classes_df = pd.read_csv(classes)\n",
    "classes_df.set_index(\"SAMPLE_KEY\", inplace=True)\n",
    "class_inchis = classes_df.loc[class_ids][\"INCHIKEY\"]"
   ]
  },
  {
   "cell_type": "code",
   "execution_count": 47,
   "id": "0afde09f",
   "metadata": {},
   "outputs": [],
   "source": [
    "val_df = pd.read_csv(val)\n",
    "val_df.set_index(\"SAMPLE_KEY\", inplace=True)\n",
    "val_inchis = val_df.loc[val_ids][\"INCHIKEY\"]"
   ]
  },
  {
   "cell_type": "code",
   "execution_count": 48,
   "id": "711d67e1",
   "metadata": {},
   "outputs": [],
   "source": [
    "class_dict = {}\n",
    "\n",
    "for i, inchi in enumerate(class_inchis): \n",
    "    class_dict[inchi] = i"
   ]
  },
  {
   "cell_type": "code",
   "execution_count": 49,
   "id": "b908522f",
   "metadata": {
    "scrolled": true
   },
   "outputs": [],
   "source": [
    "ground_truth = np.zeros(len(val_inchis), dtype=int)\n",
    "\n",
    "for i, inchi in enumerate(val_inchis): \n",
    "    label = class_dict[inchi]\n",
    "    ground_truth[i] = int(label)"
   ]
  },
  {
   "cell_type": "code",
   "execution_count": 50,
   "id": "ddfa0f7e",
   "metadata": {},
   "outputs": [
    {
     "name": "stdout",
     "output_type": "stream",
     "text": [
      "17.79964627454537\n"
     ]
    }
   ],
   "source": [
    "# Calculating accuracies in several ways\n",
    "\n",
    "# WAY 1\n",
    "logits = val_img_features @ class_img_features.T\n",
    "acc = accuracy_score(ground_truth, logits.argmax(axis=1)) * 100.0\n",
    "print(acc)"
   ]
  },
  {
   "cell_type": "code",
   "execution_count": 51,
   "id": "e6557bb2",
   "metadata": {},
   "outputs": [
    {
     "data": {
      "text/plain": [
       "17.79964627454537"
      ]
     },
     "execution_count": 51,
     "metadata": {},
     "output_type": "execute_result"
    }
   ],
   "source": [
    "# WAY 2\n",
    "N = ground_truth.shape[0]\n",
    "(np.array(ground_truth) == logits.argmax(axis=1).numpy()).sum() / N * 100"
   ]
  },
  {
   "cell_type": "code",
   "execution_count": 52,
   "id": "77d9fc78",
   "metadata": {},
   "outputs": [
    {
     "name": "stdout",
     "output_type": "stream",
     "text": [
      "{'R@1': 17.79964627454537, 'R@5': 40.61267062718244, 'R@10': 55.29454446510363}\n"
     ]
    }
   ],
   "source": [
    "# WAY 3\n",
    "ranking = torch.argsort(logits, descending=True)\n",
    "t = torch.tensor(ground_truth, dtype=torch.int16).view(-1,1)\n",
    "\n",
    "preds = torch.where(ranking == t)[1]\n",
    "preds = preds.detach().cpu().numpy()\n",
    "\n",
    "metrics = {}\n",
    "for k in [1, 5, 10]:\n",
    "    metrics[f\"R@{k}\"] = np.mean(preds < k) * 100\n",
    "    \n",
    "print(metrics)"
   ]
  },
  {
   "cell_type": "code",
   "execution_count": 53,
   "id": "94297e51",
   "metadata": {},
   "outputs": [
    {
     "name": "stdout",
     "output_type": "stream",
     "text": [
      "{'R@1': 17.79964627454537, 'R@5': 40.61267062718244, 'R@10': 55.29454446510363}\n"
     ]
    }
   ],
   "source": [
    "# WAY 4\n",
    "probs = (val_img_features @ class_img_features.T).softmax(dim=-1)\n",
    "\n",
    "metrics_skl = {}\n",
    "for k in [1, 5, 10]:\n",
    "    metrics_skl[f\"R@{k}\"] = top_k_accuracy_score(ground_truth, probs, k=k) * 100\n",
    "    \n",
    "print(metrics_skl)"
   ]
  },
  {
   "cell_type": "code",
   "execution_count": 54,
   "id": "4e405617",
   "metadata": {},
   "outputs": [
    {
     "name": "stdout",
     "output_type": "stream",
     "text": [
      "{'R@1': 17.797378803682374, 'R@5': 40.61267062718244, 'R@10': 55.29454446510363}\n",
      "{'R@1': ConfidenceInterval(low=0.17441396773675438, high=0.18157605239460997), 'R@5': ConfidenceInterval(low=0.4015381801469176, high=0.4107275937390251), 'R@10': ConfidenceInterval(low=0.5482905097603545, high=0.5575934079036483)}\n"
     ]
    }
   ],
   "source": [
    "from scipy.stats import binomtest\n",
    "\n",
    "n_samples = val_img_features.shape[0]\n",
    "\n",
    "mdict, cis = {}, {}\n",
    "\n",
    "for metric, value in metrics.items():\n",
    "    successes = int(value * n_samples / 100)\n",
    "    btest = binomtest(k=successes, n=n_samples)\n",
    "    mdict[metric] = btest.proportion_estimate * 100\n",
    "    cis[metric] = btest.proportion_ci(confidence_level=0.95)\n",
    "    \n",
    "print(mdict)\n",
    "print(cis)"
   ]
  }
 ],
 "metadata": {
  "kernelspec": {
   "display_name": "Python 3 (ipykernel)",
   "language": "python",
   "name": "python3"
  },
  "language_info": {
   "codemirror_mode": {
    "name": "ipython",
    "version": 3
   },
   "file_extension": ".py",
   "mimetype": "text/x-python",
   "name": "python",
   "nbconvert_exporter": "python",
   "pygments_lexer": "ipython3",
   "version": "3.9.7"
  }
 },
 "nbformat": 4,
 "nbformat_minor": 5
}
