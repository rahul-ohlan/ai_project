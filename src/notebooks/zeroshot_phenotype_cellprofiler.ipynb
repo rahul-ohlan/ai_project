{
 "cells": [
  {
   "cell_type": "code",
   "execution_count": 2,
   "id": "86c4fa3d",
   "metadata": {},
   "outputs": [],
   "source": [
    "import numpy as np\n",
    "import pandas as pd\n",
    "\n",
    "import sys\n",
    "import os\n",
    "import json\n",
    "import logging\n",
    "from pathlib import Path, PurePath\n",
    "from collections import OrderedDict\n",
    "from itertools import chain\n",
    "\n",
    "import torch\n",
    "from torch.utils.data import DataLoader\n",
    "from torch.utils.tensorboard import SummaryWriter\n",
    "\n",
    "from rdkit.Chem import AllChem\n",
    "from rdkit import Chem\n",
    "from rdkit.Chem import AllChem\n",
    "from rdkit.Chem import DataStructs\n",
    "\n",
    "from sklearn.metrics import accuracy_score, top_k_accuracy_score\n",
    "from scipy.spatial.distance import cdist"
   ]
  },
  {
   "cell_type": "code",
   "execution_count": 3,
   "id": "ea8e8b15",
   "metadata": {},
   "outputs": [],
   "source": [
    "val = \"cellpainting-test-phenotype-imgpermol.csv\"\n",
    "classes = \"cellpainting-split-test-imgpermol.csv\""
   ]
  },
  {
   "cell_type": "code",
   "execution_count": 4,
   "id": "349fe24c",
   "metadata": {
    "scrolled": true
   },
   "outputs": [],
   "source": [
    "classes_df = pd.read_csv(classes)\n",
    "classes_df.set_index(\"SAMPLE_KEY\", inplace=True)\n",
    "classes_df.index\n",
    "class_index = classes_df.index.to_numpy()"
   ]
  },
  {
   "cell_type": "code",
   "execution_count": 6,
   "id": "0afde09f",
   "metadata": {},
   "outputs": [],
   "source": [
    "val_df = pd.read_csv(val)\n",
    "val_df.set_index(\"SAMPLE_KEY\", inplace=True)\n",
    "val_df.index\n",
    "val_index = val_df.index.to_numpy()"
   ]
  },
  {
   "cell_type": "code",
   "execution_count": 7,
   "id": "a2fbadcc",
   "metadata": {},
   "outputs": [],
   "source": [
    "cellprofiler_path = \"/publicdata/cellpainting/cellprofiler-features-image-level.npz\"\n",
    "cellprofiler_npz = np.load(cellprofiler_path)\n",
    "rownames = cellprofiler_npz[\"rownames\"]\n",
    "colnames = cellprofiler_npz[\"colnames\"]\n",
    "cellprofiler_features = cellprofiler_npz[\"X\"]"
   ]
  },
  {
   "cell_type": "code",
   "execution_count": 8,
   "id": "593c774e",
   "metadata": {},
   "outputs": [],
   "source": [
    "#check indexes of classes in full cellprofiler features file\n",
    "class_indices = np.where(np.in1d(rownames, class_index))[0]"
   ]
  },
  {
   "cell_type": "code",
   "execution_count": 9,
   "id": "368b8369",
   "metadata": {},
   "outputs": [
    {
     "name": "stdout",
     "output_type": "stream",
     "text": [
      "2116\n",
      "2115\n"
     ]
    }
   ],
   "source": [
    "#check that there are no repeated samples\n",
    "class_ids = rownames[class_indices]\n",
    "print(len(class_ids))\n",
    "print(len(set(class_ids)))"
   ]
  },
  {
   "cell_type": "code",
   "execution_count": 10,
   "id": "ce1ebbfe",
   "metadata": {},
   "outputs": [],
   "source": [
    "class_features = cellprofiler_features[class_indices]"
   ]
  },
  {
   "cell_type": "code",
   "execution_count": 11,
   "id": "1d67113c",
   "metadata": {},
   "outputs": [],
   "source": [
    "class_ids_unique, class_uq_indices = np.unique(class_ids, return_index=True)\n",
    "class_features_final = class_features[class_uq_indices]\n",
    "class_ids_final = class_ids[class_uq_indices]\n",
    "class_inchis = classes_df.loc[class_ids_final][\"INCHIKEY\"]"
   ]
  },
  {
   "cell_type": "code",
   "execution_count": null,
   "id": "eaa77035",
   "metadata": {},
   "outputs": [],
   "source": [
    "val_indices = np.where(np.in1d(rownames, val_index))[0]"
   ]
  },
  {
   "cell_type": "code",
   "execution_count": null,
   "id": "30e49b1e",
   "metadata": {},
   "outputs": [],
   "source": [
    "# some samples from validation set are repeated in the cellprofiler file, np.unique used because of this\n",
    "val_features = cellprofiler_features[val_indices]\n",
    "val_ids = rownames[val_indices]\n",
    "val_ids_unique, indices = np.unique(val_ids, return_index=True)\n",
    "val_features_final = val_features[indices]\n",
    "val_ids_final = val_ids[indices]\n",
    "val_inchis = val_df.loc[val_ids_final][\"INCHIKEY\"]"
   ]
  },
  {
   "cell_type": "code",
   "execution_count": 32,
   "id": "c2380338",
   "metadata": {},
   "outputs": [
    {
     "name": "stdout",
     "output_type": "stream",
     "text": [
      "torch.Size([44102, 148])\n",
      "torch.Size([2115, 148])\n"
     ]
    }
   ],
   "source": [
    "print(val_features_final.shape)\n",
    "print(class_features_final.shape)"
   ]
  },
  {
   "cell_type": "code",
   "execution_count": 25,
   "id": "e1146c66",
   "metadata": {},
   "outputs": [],
   "source": [
    "val_features_final = torch.from_numpy(val_features_final)\n",
    "class_features_final = torch.from_numpy(class_features_final)\n",
    "\n",
    "val_features_final_mnorm = val_features_final / val_features_final.norm(dim=-1, keepdim=True)\n",
    "class_features_mnorm = class_features_final / class_features_final.norm(dim=-1, keepdim=True)"
   ]
  },
  {
   "cell_type": "code",
   "execution_count": 26,
   "id": "711d67e1",
   "metadata": {},
   "outputs": [],
   "source": [
    "# Assing one label to each molecule\n",
    "class_dict = {}\n",
    "\n",
    "for i, inchi in enumerate(class_inchis): \n",
    "    class_dict[inchi] = i"
   ]
  },
  {
   "cell_type": "code",
   "execution_count": 27,
   "id": "b908522f",
   "metadata": {
    "scrolled": true
   },
   "outputs": [],
   "source": [
    "# Create ground truth array with molecule labels. NOTE: there are replicates in the dataset\n",
    "ground_truth = np.zeros(len(val_inchis), dtype=int)\n",
    "\n",
    "for i, inchi in enumerate(val_inchis): \n",
    "    label = class_dict[inchi]\n",
    "    ground_truth[i] = int(label)"
   ]
  },
  {
   "cell_type": "code",
   "execution_count": 28,
   "id": "ddfa0f7e",
   "metadata": {},
   "outputs": [
    {
     "name": "stdout",
     "output_type": "stream",
     "text": [
      "0.49657611899687093\n"
     ]
    }
   ],
   "source": [
    "# Calculating accuracies in several ways\n",
    "\n",
    "# WAY 1\n",
    "logits = val_features_final_mnorm @ class_features_mnorm.T\n",
    "acc = accuracy_score(ground_truth, logits.argmax(axis=1)) * 100.0\n",
    "print(acc)"
   ]
  },
  {
   "cell_type": "code",
   "execution_count": 29,
   "id": "e6557bb2",
   "metadata": {},
   "outputs": [
    {
     "data": {
      "text/plain": [
       "0.49657611899687093"
      ]
     },
     "execution_count": 29,
     "metadata": {},
     "output_type": "execute_result"
    }
   ],
   "source": [
    "# WAY 2\n",
    "N = ground_truth.shape[0]\n",
    "(np.array(ground_truth) == logits.argmax(axis=1).numpy()).sum() / N * 100"
   ]
  },
  {
   "cell_type": "code",
   "execution_count": 30,
   "id": "77d9fc78",
   "metadata": {},
   "outputs": [
    {
     "name": "stdout",
     "output_type": "stream",
     "text": [
      "{'R@1': 0.49657611899687093, 'R@5': 1.7527549770985442, 'R@10': 2.8932928211872477}\n"
     ]
    }
   ],
   "source": [
    "# WAY 3\n",
    "ranking = torch.argsort(logits, descending=True)\n",
    "t = torch.tensor(ground_truth, dtype=torch.int16).view(-1,1)\n",
    "\n",
    "preds = torch.where(ranking == t)[1]\n",
    "preds = preds.detach().cpu().numpy()\n",
    "\n",
    "metrics = {}\n",
    "for k in [1, 5, 10]:\n",
    "    metrics[f\"R@{k}\"] = np.mean(preds < k) * 100\n",
    "    \n",
    "print(metrics)"
   ]
  },
  {
   "cell_type": "code",
   "execution_count": null,
   "id": "94297e51",
   "metadata": {},
   "outputs": [],
   "source": [
    "# WAY 4\n",
    "probs = (val_features_final_mnorm @ class_features_mnorm.T).softmax(dim=-1)\n",
    "\n",
    "metrics_skl = {}\n",
    "for k in [1, 5, 10]:\n",
    "    metrics_skl[f\"R@{k}\"] = top_k_accuracy_score(ground_truth, probs, k=k) * 100\n",
    "    \n",
    "print(metrics_skl)"
   ]
  },
  {
   "cell_type": "code",
   "execution_count": 31,
   "id": "94c0b014",
   "metadata": {},
   "outputs": [
    {
     "name": "stdout",
     "output_type": "stream",
     "text": [
      "44102\n",
      "219\n",
      "773\n",
      "1276\n",
      "{'R@1': 0.49657611899687093, 'R@5': 1.7527549770985442, 'R@10': 2.8932928211872477}\n",
      "{'R@1': ConfidenceInterval(low=0.00433114761083082, high=0.005666823567429807), 'R@5': ConfidenceInterval(low=0.016323324330504, high=0.01879587406047005), 'R@10': ConfidenceInterval(low=0.027388291837404755, high=0.030539984816085917)}\n"
     ]
    }
   ],
   "source": [
    "from scipy.stats import binomtest\n",
    "\n",
    "n_samples = val_features_final.shape[0]\n",
    "print(n_samples)\n",
    "\n",
    "mdict, cis = {}, {}\n",
    "\n",
    "for metric, value in metrics.items():\n",
    "    successes = int(value * n_samples / 100)\n",
    "    print(successes)\n",
    "    btest = binomtest(k=successes, n=n_samples)\n",
    "    mdict[metric] = btest.proportion_estimate * 100\n",
    "    cis[metric] = btest.proportion_ci(confidence_level=0.95)\n",
    "    \n",
    "print(mdict)\n",
    "print(cis)"
   ]
  }
 ],
 "metadata": {
  "kernelspec": {
   "display_name": "Python 3 (ipykernel)",
   "language": "python",
   "name": "python3"
  },
  "language_info": {
   "codemirror_mode": {
    "name": "ipython",
    "version": 3
   },
   "file_extension": ".py",
   "mimetype": "text/x-python",
   "name": "python",
   "nbconvert_exporter": "python",
   "pygments_lexer": "ipython3",
   "version": "3.9.7"
  }
 },
 "nbformat": 4,
 "nbformat_minor": 5
}
